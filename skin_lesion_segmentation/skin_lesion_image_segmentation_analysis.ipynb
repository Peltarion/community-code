{
 "cells": [
  {
   "cell_type": "markdown",
   "metadata": {},
   "source": [
    "# Model analysis\n",
    "\n",
    "In this notebook you will learn how to use the Deployment API of the Peltarion platform via Sidekick to get predictions on samples and evaluate the performance of the deployed model in more detail.\n",
    "\n",
    "---\n",
    "**NOTE!** \n",
    "\n",
    "For information about how to install sidekick, see https://github.com/Peltarion/sidekick\n",
    "\n",
    "---"
   ]
  },
  {
   "cell_type": "code",
   "execution_count": 1,
   "metadata": {},
   "outputs": [],
   "source": [
    "import os\n",
    "from glob import glob\n",
    "import numpy as np\n",
    "\n",
    "import matplotlib.pyplot as plt\n",
    "import pandas as pd\n",
    "from PIL import Image\n",
    "import sidekick\n",
    "from tqdm import tqdm\n",
    "%matplotlib inline"
   ]
  },
  {
   "cell_type": "markdown",
   "metadata": {},
   "source": [
    "## Setup"
   ]
  },
  {
   "cell_type": "markdown",
   "metadata": {},
   "source": [
    "### Paths"
   ]
  },
  {
   "cell_type": "code",
   "execution_count": 2,
   "metadata": {},
   "outputs": [],
   "source": [
    "test_dataset_dir = './ISIC2018_Task1-2_Test_Input'\n",
    "train_dataset_dir = './data'"
   ]
  },
  {
   "cell_type": "markdown",
   "metadata": {},
   "source": [
    "### Client to deployment"
   ]
  },
  {
   "cell_type": "code",
   "execution_count": 3,
   "metadata": {},
   "outputs": [],
   "source": [
    "deployment_url = 'https://...'\n",
    "deployment_token = '...'"
   ]
  },
  {
   "cell_type": "code",
   "execution_count": 4,
   "metadata": {},
   "outputs": [],
   "source": [
    "client = sidekick.Deployment(\n",
    "    # Enter URL and token\n",
    "    url=deployment_url,\n",
    "    token=deployment_token\n",
    ")"
   ]
  },
  {
   "cell_type": "markdown",
   "metadata": {},
   "source": [
    "### Progress bar for Pandas"
   ]
  },
  {
   "cell_type": "code",
   "execution_count": 5,
   "metadata": {},
   "outputs": [],
   "source": [
    "tqdm.pandas()"
   ]
  },
  {
   "cell_type": "markdown",
   "metadata": {},
   "source": [
    "## Single predictions"
   ]
  },
  {
   "cell_type": "markdown",
   "metadata": {},
   "source": [
    "Get one image file from the test dataset and resize it to the dimensions expected by the model."
   ]
  },
  {
   "cell_type": "code",
   "execution_count": 6,
   "metadata": {},
   "outputs": [
    {
     "data": {
      "image/png": "[encoded data removed]",
      "text/plain": [
       "<PIL.Image.Image image mode=RGB size=64x64 at 0x1073451D0>"
      ]
     },
     "metadata": {},
     "output_type": "display_data"
    },
    {
     "name": "stdout",
     "output_type": "stream",
     "text": [
      "Format: JPEG\n",
      "Size: (64, 64)\n"
     ]
    }
   ],
   "source": [
    "im = Image.open(os.path.join(test_dataset_dir,'ISIC_0012169.jpg'))\n",
    "im = im.resize((64,64))\n",
    "im.format = 'JPEG'\n",
    "display(im)\n",
    "print('Format: ' + im.format + '\\nSize: ' + str(im.size))"
   ]
  },
  {
   "cell_type": "markdown",
   "metadata": {},
   "source": [
    "Make a single prediction"
   ]
  },
  {
   "cell_type": "code",
   "execution_count": 7,
   "metadata": {},
   "outputs": [
    {
     "data": {
      "image/png": "[encoded data removed]",
      "text/plain": [
       "<PIL.PngImagePlugin.PngImageFile image mode=L size=64x64 at 0x11B006FD0>"
      ]
     },
     "metadata": {},
     "output_type": "display_data"
    },
    {
     "name": "stdout",
     "output_type": "stream",
     "text": [
      "Format: JPEG\n",
      "Size: (64, 64)\n"
     ]
    }
   ],
   "source": [
    "out_dict = client.predict(image=im)\n",
    "display(out_dict['mask'])\n",
    "print('Format: ' + im.format + '\\nSize: ' + str(im.size))"
   ]
  },
  {
   "cell_type": "markdown",
   "metadata": {},
   "source": [
    "## Batch predictions"
   ]
  },
  {
   "cell_type": "markdown",
   "metadata": {},
   "source": [
    "Read all the files (1000) in the test input folder into a Panda dataframe. The images are scaled down to match the expected dimensions of the mode. The JPEG format information is lost after resizing and must be set explicitly. This may take a few minutes!"
   ]
  },
  {
   "cell_type": "code",
   "execution_count": 8,
   "metadata": {},
   "outputs": [],
   "source": [
    "def get_image(path):\n",
    "    imf = Image.open(path)\n",
    "    im = imf\n",
    "    im = im.resize((64,64))\n",
    "    im.format = 'JPEG'\n",
    "    imf.close()\n",
    "    return im"
   ]
  },
  {
   "cell_type": "code",
   "execution_count": 9,
   "metadata": {},
   "outputs": [
    {
     "name": "stderr",
     "output_type": "stream",
     "text": [
      "100%|██████████| 1000/1000 [03:46<00:00,  7.91it/s]\n"
     ]
    },
    {
     "data": {
      "text/plain": [
       "image    1000\n",
       "dtype: int64"
      ]
     },
     "execution_count": 9,
     "metadata": {},
     "output_type": "execute_result"
    }
   ],
   "source": [
    "test_images_rel_path = sorted(glob(os.path.join(test_dataset_dir, '*.jpg')))\n",
    "df_test = pd.DataFrame({'image': test_images_rel_path})\n",
    "df_test['image'] = df_test['image'].progress_apply(lambda path: get_image(path))\n",
    "df_test.count()"
   ]
  },
  {
   "cell_type": "markdown",
   "metadata": {},
   "source": [
    "For interactive exploration of data it is useful to use the `predict_lazy`\n",
    "method, which returns a generator that lazily polls the deployment when needed.\n",
    "This allows you to immediatly start exploring the results instead of waiting\n",
    "for all predictions to finnish."
   ]
  },
  {
   "cell_type": "code",
   "execution_count": 10,
   "metadata": {},
   "outputs": [],
   "source": [
    "predictions = client.predict_lazy(df_test.to_dict('records'))"
   ]
  },
  {
   "cell_type": "markdown",
   "metadata": {},
   "source": [
    "Create a generator for the images."
   ]
  },
  {
   "cell_type": "code",
   "execution_count": 11,
   "metadata": {},
   "outputs": [],
   "source": [
    "images = iter(df_test['image'])"
   ]
  },
  {
   "cell_type": "markdown",
   "metadata": {},
   "source": [
    "## View image and prediction"
   ]
  },
  {
   "cell_type": "markdown",
   "metadata": {},
   "source": [
    "Get next lesion image and prediction (mask) from the iterators. \n",
    "Make the mask white sections of the mask transparent and superimpose it onto the image. The first iterations will take a few seconds, successive iterations will be faster."
   ]
  },
  {
   "cell_type": "code",
   "execution_count": 12,
   "metadata": {
    "scrolled": true
   },
   "outputs": [],
   "source": [
    "def get_masked_image(im,mask):\n",
    "    mask2 = np.array(mask.convert(\"RGBA\"))\n",
    "    red, green, blue, alpha = mask2.T\n",
    "    # Replace white with transparent white\n",
    "    white_areas = (red >= 128) & (blue >= 128) & (green >= 128)\n",
    "    mask2[white_areas.T] = (255, 0, 0, 0)\n",
    "    mask2 = Image.fromarray(mask2)\n",
    "    im2 = im.copy()\n",
    "    im2.paste(mask2, (0, 0), mask2)\n",
    "    return im2"
   ]
  },
  {
   "cell_type": "code",
   "execution_count": 13,
   "metadata": {},
   "outputs": [
    {
     "data": {
      "image/png": "[encoded data removed]",
      "text/plain": [
       "<Figure size 1080x1080 with 3 Axes>"
      ]
     },
     "metadata": {
      "needs_background": "light"
     },
     "output_type": "display_data"
    }
   ],
   "source": [
    "im = next(images)\n",
    "mask = next(predictions)['mask']\n",
    "masked_image = get_masked_image(im,mask)\n",
    "rows = 1\n",
    "columns = 3\n",
    "plt.figure(figsize=(15,15))\n",
    "plt.subplot(rows, columns, 1)\n",
    "plt.imshow(im);\n",
    "plt.subplot(rows, columns, 2)\n",
    "plt.imshow(mask);\n",
    "plt.subplot(rows, columns, 3)\n",
    "plt.imshow(masked_image);"
   ]
  },
  {
   "cell_type": "markdown",
   "metadata": {},
   "source": [
    "## View multiple images and predictions in grid"
   ]
  },
  {
   "cell_type": "markdown",
   "metadata": {},
   "source": [
    "Set the desired grid size and press Run interact to get a new grid of examples."
   ]
  },
  {
   "cell_type": "code",
   "execution_count": 14,
   "metadata": {},
   "outputs": [
    {
     "data": {
      "application/vnd.jupyter.widget-view+json": {
       "model_id": "e27f34f32720463f92a3ed9234450ced",
       "version_major": 2,
       "version_minor": 0
      },
      "text/plain": [
       "interactive(children=(IntSlider(value=5, description='n_rows', max=10, min=1), IntSlider(value=5, description=…"
      ]
     },
     "metadata": {},
     "output_type": "display_data"
    }
   ],
   "source": [
    "from ipywidgets import interact_manual\n",
    "\n",
    "def get_masked_image(im,mask):\n",
    "    mask2 = np.array(mask.convert(\"RGBA\"))\n",
    "    red, green, blue, alpha = mask2.T\n",
    "    # Replace white with transparen white\n",
    "    white_areas = (red >= 128) & (blue >= 128) & (green >= 128)\n",
    "    mask2[white_areas.T] = (255, 0, 0, 0)\n",
    "    mask2 = Image.fromarray(mask2)\n",
    "    im2 = im\n",
    "    im2.paste(mask2, (0, 0), mask2)\n",
    "    return im2\n",
    "\n",
    "def show_next_grid(n_rows, n_columns):\n",
    "    grid = Image.new('RGBA', (n_columns * 64, n_rows * 64))\n",
    "    for column in range(n_columns):\n",
    "        for row in range(n_rows):    \n",
    "            im = next(images)\n",
    "            mask = next(predictions)['mask']            \n",
    "            masked_image = get_masked_image(im, mask)\n",
    "            grid.paste(masked_image, (column * 64, row * 64))\n",
    "    return grid\n",
    "\n",
    "interact_manual(show_next_grid, n_rows=(1, 10), n_columns=(1, 10));"
   ]
  },
  {
   "cell_type": "markdown",
   "metadata": {},
   "source": [
    "## Threshold Jaccard Index (Intersection over union)\n",
    "Calculate the intersect over union for the validation set."
   ]
  },
  {
   "cell_type": "markdown",
   "metadata": {},
   "source": [
    "Read validation subset that was created in the preprocessing of the training dataset."
   ]
  },
  {
   "cell_type": "code",
   "execution_count": 15,
   "metadata": {},
   "outputs": [
    {
     "name": "stdout",
     "output_type": "stream",
     "text": [
      "Number of validation data samples:  519\n"
     ]
    }
   ],
   "source": [
    "df = pd.read_csv(os.path.join(train_dataset_dir, \"index.csv\"))\n",
    "df_val = df[df[\"subset\"] == \"V\"]\n",
    "print(\"Number of validation data samples: \", str(len(df_val)))"
   ]
  },
  {
   "cell_type": "markdown",
   "metadata": {},
   "source": [
    "Change from relative to absolute paths"
   ]
  },
  {
   "cell_type": "code",
   "execution_count": 16,
   "metadata": {},
   "outputs": [
    {
     "name": "stderr",
     "output_type": "stream",
     "text": [
      "100%|██████████| 519/519 [00:00<00:00, 221156.54it/s]\n",
      "/Users/joakim/venv/lib/python3.7/site-packages/ipykernel_launcher.py:1: SettingWithCopyWarning: \n",
      "A value is trying to be set on a copy of a slice from a DataFrame.\n",
      "Try using .loc[row_indexer,col_indexer] = value instead\n",
      "\n",
      "See the caveats in the documentation: http://pandas.pydata.org/pandas-docs/stable/indexing.html#indexing-view-versus-copy\n",
      "  \"\"\"Entry point for launching an IPython kernel.\n",
      "100%|██████████| 519/519 [00:00<00:00, 201783.81it/s]\n",
      "/Users/joakim/venv/lib/python3.7/site-packages/ipykernel_launcher.py:2: SettingWithCopyWarning: \n",
      "A value is trying to be set on a copy of a slice from a DataFrame.\n",
      "Try using .loc[row_indexer,col_indexer] = value instead\n",
      "\n",
      "See the caveats in the documentation: http://pandas.pydata.org/pandas-docs/stable/indexing.html#indexing-view-versus-copy\n",
      "  \n"
     ]
    }
   ],
   "source": [
    "df_val['image'] = df_val['image'].progress_apply(lambda path: os.path.join(train_dataset_dir, path))\n",
    "df_val['mask'] = df_val['mask'].progress_apply(lambda path: os.path.join(train_dataset_dir, path))"
   ]
  },
  {
   "cell_type": "markdown",
   "metadata": {},
   "source": [
    "Replace the paths in the image/mask columns with the actual images and mask from the subset."
   ]
  },
  {
   "cell_type": "code",
   "execution_count": 17,
   "metadata": {},
   "outputs": [
    {
     "name": "stderr",
     "output_type": "stream",
     "text": [
      "100%|██████████| 519/519 [00:00<00:00, 1347.25it/s]\n",
      "/Users/joakim/venv/lib/python3.7/site-packages/ipykernel_launcher.py:1: SettingWithCopyWarning: \n",
      "A value is trying to be set on a copy of a slice from a DataFrame.\n",
      "Try using .loc[row_indexer,col_indexer] = value instead\n",
      "\n",
      "See the caveats in the documentation: http://pandas.pydata.org/pandas-docs/stable/indexing.html#indexing-view-versus-copy\n",
      "  \"\"\"Entry point for launching an IPython kernel.\n",
      "100%|██████████| 519/519 [00:00<00:00, 3519.93it/s]\n",
      "/Users/joakim/venv/lib/python3.7/site-packages/ipykernel_launcher.py:2: SettingWithCopyWarning: \n",
      "A value is trying to be set on a copy of a slice from a DataFrame.\n",
      "Try using .loc[row_indexer,col_indexer] = value instead\n",
      "\n",
      "See the caveats in the documentation: http://pandas.pydata.org/pandas-docs/stable/indexing.html#indexing-view-versus-copy\n",
      "  \n"
     ]
    }
   ],
   "source": [
    "df_val['image'] = df_val['image'].progress_apply(lambda path: get_image(path))\n",
    "df_val['mask'] = df_val['mask'].progress_apply(lambda path: get_image(path))"
   ]
  },
  {
   "cell_type": "markdown",
   "metadata": {},
   "source": [
    "This returns an iterator that will give us the mask predictions."
   ]
  },
  {
   "cell_type": "code",
   "execution_count": 18,
   "metadata": {},
   "outputs": [],
   "source": [
    "predictions = client.predict_lazy(df_val.to_dict('records'))"
   ]
  },
  {
   "cell_type": "code",
   "execution_count": 19,
   "metadata": {},
   "outputs": [],
   "source": [
    "masks = iter(df_val['mask'])"
   ]
  },
  {
   "cell_type": "markdown",
   "metadata": {},
   "source": [
    "Display a mask image from the validation subset and the corresponding predicted mask."
   ]
  },
  {
   "cell_type": "code",
   "execution_count": 20,
   "metadata": {},
   "outputs": [
    {
     "data": {
      "image/png": "[encoded data removed]",
      "text/plain": [
       "<PIL.Image.Image image mode=L size=64x64 at 0x11CA3AA20>"
      ]
     },
     "metadata": {},
     "output_type": "display_data"
    },
    {
     "data": {
      "text/plain": [
       "'Ground truth'"
      ]
     },
     "metadata": {},
     "output_type": "display_data"
    },
    {
     "data": {
      "image/png": "[encoded data removed]",
      "text/plain": [
       "<PIL.PngImagePlugin.PngImageFile image mode=L size=64x64 at 0x118D5C470>"
      ]
     },
     "metadata": {},
     "output_type": "display_data"
    },
    {
     "data": {
      "text/plain": [
       "'Predicted'"
      ]
     },
     "metadata": {},
     "output_type": "display_data"
    }
   ],
   "source": [
    "mask = next(masks)\n",
    "pred_mask = next(predictions)['mask']\n",
    "display(mask,'Ground truth')\n",
    "display(pred_mask, 'Predicted')"
   ]
  },
  {
   "cell_type": "markdown",
   "metadata": {},
   "source": [
    "Convert masks and predicted mask to NumPy. The pixel intensity in the predicted mask will be in the range 0-255. Normalize the range to 0-1 and set a cuttoff at 50%. This means that pixels with an intensity that is lower than 128 will be considered black."
   ]
  },
  {
   "cell_type": "code",
   "execution_count": 21,
   "metadata": {},
   "outputs": [],
   "source": [
    "mask_np = np.array(mask, dtype=bool)\n",
    "pred_mask_np = (np.array(pred_mask) / 255) >= .5"
   ]
  },
  {
   "cell_type": "markdown",
   "metadata": {},
   "source": [
    "### Intersection (1 sample)\n",
    "Display the intersecting region for a mask and its corresponding prediction, sum up the pixels in it."
   ]
  },
  {
   "cell_type": "code",
   "execution_count": 22,
   "metadata": {},
   "outputs": [
    {
     "data": {
      "image/png": "[encoded data removed]",
      "text/plain": [
       "<PIL.Image.Image image mode=L size=64x64 at 0x11CA97DA0>"
      ]
     },
     "metadata": {},
     "output_type": "display_data"
    },
    {
     "data": {
      "text/plain": [
       "734"
      ]
     },
     "metadata": {},
     "output_type": "display_data"
    }
   ],
   "source": [
    "intersect_np = np.logical_and(mask_np, pred_mask_np)\n",
    "intersect_sum = np.sum(intersect_np)\n",
    "intersect_np = 255*intersect_np\n",
    "intersect = Image.fromarray(intersect_np.astype(np.uint8))\n",
    "display(intersect, intersect_sum)"
   ]
  },
  {
   "cell_type": "markdown",
   "metadata": {},
   "source": [
    "### Union  (1 sample)\n",
    "Display the union of a mask and its corresponding prediction, sum up the pixels in it."
   ]
  },
  {
   "cell_type": "code",
   "execution_count": 23,
   "metadata": {},
   "outputs": [
    {
     "data": {
      "image/png": "[encoded data removed]",
      "text/plain": [
       "<PIL.Image.Image image mode=L size=64x64 at 0x11CA974A8>"
      ]
     },
     "metadata": {},
     "output_type": "display_data"
    },
    {
     "data": {
      "text/plain": [
       "781"
      ]
     },
     "metadata": {},
     "output_type": "display_data"
    }
   ],
   "source": [
    "union_np = np.logical_or(mask_np, pred_mask_np)\n",
    "union_sum = np.sum(union_np)\n",
    "union_np = 255*union_np\n",
    "union = Image.fromarray(union_np.astype(np.uint8))\n",
    "display(union,union_sum)"
   ]
  },
  {
   "cell_type": "markdown",
   "metadata": {},
   "source": [
    "Calculate the iou (intersection over union), which is the same thing as the threshold Jaccard index."
   ]
  },
  {
   "cell_type": "code",
   "execution_count": 24,
   "metadata": {},
   "outputs": [
    {
     "name": "stdout",
     "output_type": "stream",
     "text": [
      "Intersection over union 0.939820742637644\n"
     ]
    }
   ],
   "source": [
    "iou = intersect_sum/union_sum\n",
    "print('Intersection over union {}'.format(iou))"
   ]
  },
  {
   "cell_type": "markdown",
   "metadata": {},
   "source": [
    "### Intersection over union  (all validation samples)"
   ]
  },
  {
   "cell_type": "code",
   "execution_count": 25,
   "metadata": {},
   "outputs": [
    {
     "name": "stderr",
     "output_type": "stream",
     "text": [
      " 99%|█████████▉| 513/519 [00:33<00:11,  1.87s/it]"
     ]
    },
    {
     "data": {
      "text/plain": [
       "0.7761203574310256"
      ]
     },
     "execution_count": 25,
     "metadata": {},
     "output_type": "execute_result"
    },
    {
     "name": "stderr",
     "output_type": "stream",
     "text": [
      "\r",
      "100%|██████████| 519/519 [00:50<00:00,  1.87s/it]"
     ]
    }
   ],
   "source": [
    "predictions = client.predict_lazy(df_val.to_dict('records'))\n",
    "masks = df_val['mask']\n",
    "pbar = tqdm(total=len(masks))\n",
    "for mask in masks:\n",
    "    mask_np = np.array(mask, dtype=bool)\n",
    "    pred_mask = next(predictions)['mask']\n",
    "    pred_mask_np = (np.array(pred_mask) / 255) >= .5\n",
    "    \n",
    "    intersect_np = np.logical_and(mask_np, pred_mask_np)\n",
    "    intersect_sum += np.sum(intersect_np)\n",
    "    union_np = np.logical_or(mask_np, pred_mask_np)\n",
    "    union_sum += np.sum(union_np)\n",
    "    pbar.update(1)\n",
    "iou=intersect_sum/union_sum\n",
    "iou"
   ]
  }
 ],
 "metadata": {
  "kernelspec": {
   "display_name": "Python 3",
   "language": "python",
   "name": "python3"
  },
  "language_info": {
   "codemirror_mode": {
    "name": "ipython",
    "version": 3
   },
   "file_extension": ".py",
   "mimetype": "text/x-python",
   "name": "python",
   "nbconvert_exporter": "python",
   "pygments_lexer": "ipython3",
   "version": "3.7.3"
  }
 },
 "nbformat": 4,
 "nbformat_minor": 2
}
